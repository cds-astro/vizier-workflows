{
 "cells": [
  {
   "cell_type": "code",
   "execution_count": 1,
   "id": "a6eaeebf",
   "metadata": {},
   "outputs": [],
   "source": [
    "# Access astronomical databases\n",
    "from pyvo import registry\n",
    "\n",
    "# Moc and HEALPix tools\n",
    "from mocpy import MOC\n",
    "\n",
    "# Sky visualization\n",
    "from ipyaladin import Aladin\n",
    "\n",
    "# For plots\n",
    "import matplotlib.pyplot as plt"
   ]
  },
  {
   "cell_type": "markdown",
   "id": "7ad7861f",
   "metadata": {},
   "source": [
    "# Welcome to VizieR example workflow\n",
    "\n",
    "[![Vizier](https://custom-icon-badges.demolab.com/badge/Vizier-gray.svg?logo=vizier&logoColor=orange&logoWidth=20)](https://vizier.cds.unistra.fr/viz-bin/VizieR \"https://vizier.cds.unistra.fr/viz-bin/VizieR\")\n",
    "\n",
    "It is a generic notebook, highlighting what can be done once you chose a catalog. This workflow is suggested by [CDS](https://cdsweb.unistra.fr/) (Strasbourg Astronomical Data Center, house of [VizieR](https://vizier.cds.unistra.fr/viz-bin/VizieR)).\n",
    "\n",
    "--------------------------------------------------------\n",
    "\n",
    "Modify the <a href='https://vizier.cds.unistra.fr'>VizieR catalogue</a> name (variable <b>CATALOGUE</b>) and anything else you might feel like exploring!\n",
    "\n",
    "## 1. Setup\n",
    "\n",
    "This example notebook has the following dependencies: \n",
    "\n",
    "**Required**\n",
    "- pyvo : this library facilitates the access to the Virtual Observatory (VO) resources. VizieR is part of the VO.\n",
    "\n",
    "**Optional, for visualization**\n",
    "- ipyaladin : this is the Aladin-lite sky viewer, bundled as a jupyter widget. It allows to plot catalogs and multi-order coverages (MOC)\n",
    "- matplotlib : an other option to see catalog points and MOCs\n",
    "\n",
    "## 2. Metadata exploration with the Virtual Observatory registry\n",
    "\n",
    "This part uses [pyvo](https://pyvo.readthedocs.io/en) to connect to the VO registry."
   ]
  },
  {
   "cell_type": "code",
   "execution_count": 20,
   "id": "95888801",
   "metadata": {},
   "outputs": [],
   "source": [
    "# the catalogue name in VizieR \n",
    "CATALOGUE = \"J/ApJ/861/49\""
   ]
  },
  {
   "cell_type": "markdown",
   "id": "26ad3c69",
   "metadata": {},
   "source": [
    "We first retrieve catalogue information."
   ]
  },
  {
   "cell_type": "code",
   "execution_count": 21,
   "id": "6db57e6b",
   "metadata": {},
   "outputs": [],
   "source": [
    "# each resource in the VO has an identifier, called ivoid. For vizier catalogs,\n",
    "# the VO ids can be constructed like this:\n",
    "catalogue_ivoid = f\"ivo://CDS.VizieR/{CATALOGUE}\"\n",
    "# the actual query to the registry\n",
    "voresource = registry.search(ivoid=catalogue_ivoid)[0]"
   ]
  },
  {
   "cell_type": "code",
   "execution_count": 22,
   "id": "f3e975e3",
   "metadata": {},
   "outputs": [
    {
     "name": "stdout",
     "output_type": "stream",
     "text": [
      "ALFALFA extragalactic HI source catalog\n",
      "Short Name: J/ApJ/861/49\n",
      "IVOA Identifier: ivo://cds.vizier/j/apj/861/49\n",
      "Access modes: conesearch, tap#aux, web\n",
      "Multi-capabilty service -- use get_service()\n",
      "\n",
      "We present the catalog of ~31500 extragalactic HI line sources detected by the\n",
      "completed Arecibo Legacy Fast ALFA (ALFALFA) survey out to z<0.06, including\n",
      "both high signal-to-noise ratio (>6.5) detections and ones of lower quality\n",
      "that coincide in both position and recessional velocity with galaxies of known\n",
      "redshift. We review the observing technique, data reduction pipeline, and\n",
      "catalog construction process, focusing on details of particular relevance to\n",
      "understanding the catalog's compiled parameters. We further describe and make\n",
      "available the digital HI line spectra associated with the cataloged sources.\n",
      "In addition to the extragalactic HI line detections, we report nine confirmed\n",
      "OH megamasers (OHMs) and 10 OHM candidates at 0.16<z<0.22 whose OH line\n",
      "signals are redshifted into the ALFALFA frequency band. Because of\n",
      "complexities in data collection and processing associated with the use of a\n",
      "feed-horn array on a complex single-dish antenna in the terrestrial radio\n",
      "frequency interference environment, we also present a list of suggestions and\n",
      "caveats for consideration by users of the ALFALFA extragalactic catalog for\n",
      "future scientific investigations.\n",
      "\n",
      "Subjects: J/ApJ/861/49\n",
      "Waveband Coverage: optical, radio\n",
      "More info: https://cdsarc.cds.unistra.fr/viz-bin/cat/J/ApJ/861/49\n"
     ]
    }
   ],
   "source": [
    "# We can print metadata information about the catalogue\n",
    "voresource.describe(verbose=True)"
   ]
  },
  {
   "cell_type": "markdown",
   "id": "bd2a7ae3",
   "metadata": {},
   "source": [
    "We can also inspect in details the `resource` object and access the attributes not provided by the describe method. See for example, the first author of a resource: "
   ]
  },
  {
   "cell_type": "code",
   "execution_count": 23,
   "id": "f5a53605",
   "metadata": {},
   "outputs": [
    {
     "data": {
      "text/plain": [
       "'Haynes M.P.'"
      ]
     },
     "execution_count": 23,
     "metadata": {},
     "output_type": "execute_result"
    }
   ],
   "source": [
    "voresource.creators[0]"
   ]
  },
  {
   "cell_type": "markdown",
   "id": "5a457510",
   "metadata": {},
   "source": [
    "## 3. Access the tabular data of this catalog\n",
    "\n",
    "We can have a look at the tables available in the catalogue."
   ]
  },
  {
   "cell_type": "code",
   "execution_count": 24,
   "id": "92ebe10f",
   "metadata": {},
   "outputs": [
    {
     "name": "stderr",
     "output_type": "stream",
     "text": [
      "WARNING: W02: ?:?:?: W02: '' is not a valid datatype according to the VOSI spec [pyvo.io.vosi.vodataservice]\n"
     ]
    },
    {
     "data": {
      "text/plain": [
       "{'J/ApJ/861/49/table3': <Table name=\"J/ApJ/861/49/table3\">... 16 columns ...</Table>,\n",
       " 'J/ApJ/861/49/table2': <Table name=\"J/ApJ/861/49/table2\">... 25 columns ...</Table>}"
      ]
     },
     "execution_count": 24,
     "metadata": {},
     "output_type": "execute_result"
    }
   ],
   "source": [
    "tables = voresource.get_tables()\n",
    "tables"
   ]
  },
  {
   "cell_type": "code",
   "execution_count": 25,
   "id": "81514878",
   "metadata": {},
   "outputs": [
    {
     "data": {
      "text/plain": [
       "['J/ApJ/861/49/table3', 'J/ApJ/861/49/table2']"
      ]
     },
     "execution_count": 25,
     "metadata": {},
     "output_type": "execute_result"
    }
   ],
   "source": [
    "# We can also extract the tables names for later use\n",
    "tables_names = list(tables.keys())\n",
    "tables_names"
   ]
  },
  {
   "cell_type": "markdown",
   "id": "eedac527",
   "metadata": {},
   "source": [
    "The actual data can then be access using any of the ``access_modes`` of the voresource."
   ]
  },
  {
   "cell_type": "code",
   "execution_count": 26,
   "id": "32db444e",
   "metadata": {},
   "outputs": [
    {
     "data": {
      "text/plain": [
       "{'conesearch', 'tap#aux', 'web'}"
      ]
     },
     "execution_count": 26,
     "metadata": {},
     "output_type": "execute_result"
    }
   ],
   "source": [
    "voresource.access_modes()"
   ]
  },
  {
   "cell_type": "markdown",
   "id": "4a7dd42f",
   "metadata": {},
   "source": [
    "The web access is found by following the ``reference_url``"
   ]
  },
  {
   "cell_type": "code",
   "execution_count": 27,
   "id": "545f9bf8",
   "metadata": {},
   "outputs": [
    {
     "data": {
      "text/plain": [
       "'https://cdsarc.cds.unistra.fr/viz-bin/cat/J/ApJ/861/49'"
      ]
     },
     "execution_count": 27,
     "metadata": {},
     "output_type": "execute_result"
    }
   ],
   "source": [
    "voresource.reference_url"
   ]
  },
  {
   "cell_type": "markdown",
   "id": "abee6ce7",
   "metadata": {},
   "source": [
    "### 3.1 Execute a SQL/ADQL query\n",
    "\n",
    "The ``tap#aux`` in the ``access_mode`` response indicates that we can also do a SQL/ADQL query for these VizieR tables.\n",
    "\n",
    "On the first table of the catalogue, we execute an <a href='https://www.ivoa.net/documents/latest/ADQL.html'>ADQL</a> query."
   ]
  },
  {
   "cell_type": "code",
   "execution_count": 28,
   "id": "3a8b8d60",
   "metadata": {},
   "outputs": [
    {
     "data": {
      "text/plain": [
       "<Table length=10>\n",
       "recno  AGC               Name                  RAJ2000            DEJ2000              RAO                DEO          Fcent   W50     HIflux    SNR     rms      z     f_AGC \n",
       "                                                 deg                deg                deg                deg           MHz   km / s Jy km / s           mJy                  \n",
       "int32 int32             object                 float64            float64            float64            float64       float64 int16   float64  float64 float64 float64  object\n",
       "----- ------ ---------------------------- ------------------ ------------------ ------------------ ------------------ ------- ------ --------- ------- ------- -------- ------\n",
       "    1 114529     SDSS J015001.57+240235.8 27.507916666666663  24.03972222222222 27.506666666666664  24.04333333333333 1384.12    613      2.88     9.7    2.17 0.204368      a\n",
       "    2 121379              IRAS 02524+2046  43.82416666666666  20.98833333333333  43.82124999999999 20.982499999999998  1412.2     85      1.95    17.4     2.7 0.181402      b\n",
       "    3 181310     SDSS J082312.61+275139.8 125.79874999999998  27.86583333333333 125.80291666666665 27.860555555555553 1427.62     46      2.17    15.9    2.18  0.16783    a,b\n",
       "    4 219215     SDSS J111125.06+052045.9 167.85833333333332 5.3455555555555545 167.85458333333332   5.34611111111111 1360.73     45      0.96    16.6     1.9 0.225213      a\n",
       "    5 219828      2MASX J11551476+3130026           178.8275 31.492499999999996 178.81124999999997  31.50083333333333 1376.31    216      0.79     4.3    2.77 0.215989      c\n",
       "    6 229493             IRAS F12072+3054 182.45541666666665 30.636666666666663          182.45125 30.630555555555553 1428.35    123       1.1     9.4    2.37     0.17      d\n",
       "    7 229487     SDSS J120948.28+303749.5 183.95374999999999  35.19694444444444 183.95333333333332  35.18333333333333 1415.83     35      0.49     6.5     2.8 0.166056      c\n",
       "    8 257959     SDSS J155537.94+143905.6  238.9070833333333 14.651666666666664 238.90791666666664 14.651666666666664 1386.22    206      2.65    17.0    2.42 0.203568      a\n",
       "    9 333320             IRAS F23129+2548 348.83666666666664  26.08555555555555 348.83916666666664 26.075555555555553 1414.25    509      1.78     7.8     2.0 0.178913      b\n",
       "   10 102708 GALEXASC J000335.98+253204.4 0.9041666666666666 25.537499999999998 0.9004166666666665  25.53444444444444 1426.76    234      0.91     5.7    2.33       --      e"
      ]
     },
     "execution_count": 28,
     "metadata": {},
     "output_type": "execute_result"
    }
   ],
   "source": [
    "# get the first table of the catalogue\n",
    "first_table_name = tables_names[0]\n",
    "\n",
    "# execute a synchronous ADQL query\n",
    "tap_service = voresource.get_service(\"tap\")\n",
    "tap_records = voresource.get_service(\"tap\").run_sync(\n",
    "    f'select TOP 10 * from \"{first_table_name}\"',\n",
    ")\n",
    "tap_records"
   ]
  },
  {
   "cell_type": "markdown",
   "id": "80157f1b",
   "metadata": {},
   "source": [
    "<!-- section position -->\n",
    "\n",
    "We will explore the other access modes here.\n",
    "\n",
    "### 3.2. Execute a cone search query\n",
    "\n",
    "We use the Simple Cone Search (<a href='https://www.ivoa.net/documents/latest/ConeSearch.html'>SCS</a>) protocol of the virtual observatory (only available for tables with positions).\n",
    "\n",
    "Adapt the radius and position of the center to your needs."
   ]
  },
  {
   "cell_type": "code",
   "execution_count": 31,
   "id": "9c678dd4",
   "metadata": {},
   "outputs": [],
   "source": [
    "conesearch_radius = 1 / 60.0  # in degrees\n",
    "conesearch_center = (27.51, 24.04)"
   ]
  },
  {
   "cell_type": "code",
   "execution_count": 32,
   "id": "8f34d3fd",
   "metadata": {},
   "outputs": [
    {
     "data": {
      "text/plain": [
       "<Table length=1>\n",
       " _RAJ2000   _DEJ2000     _r   recno  AGC             Name            RAJ2000    DEJ2000     RAO        DEO     Fcent   W50     HIflux    SNR     rms       z     f_AGC NED  LEDA\n",
       "   deg        deg                                                                                               MHz   km / s Jy km / s           mJy                            \n",
       " float64    float64   float64 int32  str6           str28             str10       str9     str10       str9   float32 int16   float32  float32 float32  float64   str3 str3 str4\n",
       "---------- ---------- ------- ----- ------ ------------------------ ---------- --------- ---------- --------- ------- ------ --------- ------- ------- --------- ----- ---- ----\n",
       " 27.507917  24.039722 0.00192     1 114529 SDSS J015001.57+240235.8 01 50 01.9 +24 02 23 01 50 01.6 +24 02 36 1384.12    613      2.88     9.7    2.17  0.204368     a  NED LEDA"
      ]
     },
     "execution_count": 32,
     "metadata": {},
     "output_type": "execute_result"
    }
   ],
   "source": [
    "conesearch_records = voresource.get_service(\"conesearch\").search(\n",
    "    pos=conesearch_center,\n",
    "    sr=conesearch_radius,\n",
    ")\n",
    "conesearch_records"
   ]
  },
  {
   "cell_type": "markdown",
   "id": "d1df2200",
   "metadata": {},
   "source": [
    "## 4. Get the catalogue coverage\n",
    "\n",
    "VizieR also provides the coverage of each catalogue with Multiple Order Coverage (<a href='https://ivoa.net/documents/MOC/'>MOC</a>) at order 10 -- meaning with a 0.001 rad spacial resolution."
   ]
  },
  {
   "cell_type": "code",
   "execution_count": 44,
   "id": "b532da7e",
   "metadata": {},
   "outputs": [
    {
     "data": {
      "image/png": "[encoded data removed]",
      "text/plain": [
       "<Figure size 640x480 with 1 Axes>"
      ]
     },
     "metadata": {},
     "output_type": "display_data"
    }
   ],
   "source": [
    "# retrieve the MOC\n",
    "catalogue_coverage = MOC.from_fits(\n",
    "    f\"https://cdsarc.cds.unistra.fr/viz-bin/moc/{CATALOGUE}\",\n",
    ")\n",
    "catalogue_coverage.display_preview()"
   ]
  },
  {
   "cell_type": "markdown",
   "id": "a8273b53",
   "metadata": {},
   "source": [
    "We can plot the coverage with ``matplotlib``."
   ]
  },
  {
   "cell_type": "code",
   "execution_count": 34,
   "id": "f47e09e2",
   "metadata": {},
   "outputs": [
    {
     "data": {
      "image/png": "[encoded data removed]",
      "text/plain": [
       "<Figure size 500x500 with 1 Axes>"
      ]
     },
     "metadata": {},
     "output_type": "display_data"
    }
   ],
   "source": [
    "fig = plt.figure(figsize=(5, 5))\n",
    "wcs = catalogue_coverage.wcs(fig)\n",
    "ax = fig.add_subplot(projection=wcs)\n",
    "catalogue_coverage.fill(ax=ax, wcs=wcs, alpha=0.5, color=\"blue\")"
   ]
  },
  {
   "cell_type": "markdown",
   "id": "adad9fc7",
   "metadata": {},
   "source": [
    "or with ipyaladin"
   ]
  },
  {
   "cell_type": "code",
   "execution_count": 39,
   "id": "53840a2b",
   "metadata": {},
   "outputs": [
    {
     "data": {
      "application/vnd.jupyter.widget-view+json": {
       "model_id": "a743f7e4ad6f45bf883e9d54a62895b4",
       "version_major": 2,
       "version_minor": 0
      },
      "text/plain": [
       "Aladin(options=['allow_full_zoomout', 'coo_frame', 'fov', 'full_screen', 'log', 'overlay_survey', 'overlay_sur…"
      ]
     },
     "execution_count": 39,
     "metadata": {},
     "output_type": "execute_result"
    }
   ],
   "source": [
    "aladin = Aladin()\n",
    "aladin"
   ]
  },
  {
   "cell_type": "markdown",
   "id": "de738e90-b34b-4818-a6e6-2d07c9b4c2c2",
   "metadata": {},
   "source": [
    "We can add the tables and coverage in this ipyaladin window."
   ]
  },
  {
   "cell_type": "code",
   "execution_count": 40,
   "id": "52e6635c-2500-4c49-930b-35a08b36caa0",
   "metadata": {},
   "outputs": [],
   "source": [
    "aladin.add_table(conesearch_records.to_table())"
   ]
  },
  {
   "cell_type": "code",
   "execution_count": 41,
   "id": "3f55e7d1-bf38-4b7d-a73b-567f9b256f85",
   "metadata": {},
   "outputs": [],
   "source": [
    "aladin.add_table(tap_records.to_table())"
   ]
  },
  {
   "cell_type": "code",
   "execution_count": 42,
   "id": "097a4505-5417-4dd3-9032-d75a76fa7c5c",
   "metadata": {},
   "outputs": [],
   "source": [
    "aladin.add_moc_from_URL(\n",
    "    f\"https://cdsarc.cds.unistra.fr/viz-bin/moc/{CATALOGUE}\",\n",
    "    moc_options={\"opacity\": 0.5, \"color\": \"pink\"},\n",
    ")"
   ]
  },
  {
   "cell_type": "markdown",
   "id": "065588dd",
   "metadata": {},
   "source": [
    "For more information about manipulating coverages, see [MOCpy documentation](https://cds-astro.github.io/mocpy/)."
   ]
  },
  {
   "cell_type": "markdown",
   "id": "f71e8af5-ae64-4763-a625-3049bb8c97fd",
   "metadata": {},
   "source": [
    "<!-- section assocdata -->\n",
    "\n",
    "## 5. Query FITS spectra or images\n",
    "\n",
    "VizieR __CATALOGUE__ contains spectra or images provided in the <a href='https://cdsarc.cds.unistra.fr/assocdata/'>VizieR associated data</a>.\n",
    "\n",
    "The description and the FITS are available by TAP, using the VizieR <a href='The data are also available using ObsTAP.'>ObsTAP</a> service"
   ]
  },
  {
   "cell_type": "code",
   "execution_count": 43,
   "id": "6b5e76ce-cab7-4095-91d3-1b34fcc79bba",
   "metadata": {},
   "outputs": [
    {
     "name": "stdout",
     "output_type": "stream",
     "text": [
      "<Table length=10>\n",
      "access_estsize  access_format                                   access_url                                    bib_reference    calib_level dataproduct_type ... s_resolution target_name t_exptime  t_max   t_min  t_resolution\n",
      "    kbyte                                                                                                                                                   ...    arcsec                                                      \n",
      "    int64           object                                        object                                          object          int32         object      ...   float64       object    float64  float64 float64   float64   \n",
      "-------------- ---------------- -------------------------------------------------------------------------- ------------------- ----------- ---------------- ... ------------ ----------- --------- ------- ------- ------------\n",
      "         46080 application/fits https://cdsarc.cds.unistra.fr/saadavizier/download?oid=1153204908023899760 2018ApJ...861...49H          -1         spectrum ...           --  AGC 334869        --      --      --           --\n",
      "         46080 application/fits https://cdsarc.cds.unistra.fr/saadavizier/download?oid=1153204908023899784 2018ApJ...861...49H          -1         spectrum ...           --  AGC 123937        --      --      --           --\n",
      "         46080 application/fits https://cdsarc.cds.unistra.fr/saadavizier/download?oid=1153204908023899798 2018ApJ...861...49H          -1         spectrum ...           --  AGC 188846        --      --      --           --\n",
      "         46080 application/fits https://cdsarc.cds.unistra.fr/saadavizier/download?oid=1153204908023899802 2018ApJ...861...49H          -1         spectrum ...           --  AGC 732343        --      --      --           --\n",
      "         46080 application/fits https://cdsarc.cds.unistra.fr/saadavizier/download?oid=1153204908023888981 2018ApJ...861...49H          -1         spectrum ...           --   AGC 12167        --      --      --           --\n",
      "         46080 application/fits https://cdsarc.cds.unistra.fr/saadavizier/download?oid=1153204908023899806 2018ApJ...861...49H          -1         spectrum ...           --  AGC 202045        --      --      --           --\n",
      "         46080 application/fits https://cdsarc.cds.unistra.fr/saadavizier/download?oid=1153204908023899840 2018ApJ...861...49H          -1         spectrum ...           --  AGC 720305        --      --      --           --\n",
      "         46080 application/fits https://cdsarc.cds.unistra.fr/saadavizier/download?oid=1153204908023899841 2018ApJ...861...49H          -1         spectrum ...           --  AGC 714405        --      --      --           --\n",
      "         46080 application/fits https://cdsarc.cds.unistra.fr/saadavizier/download?oid=1153204908023899866 2018ApJ...861...49H          -1         spectrum ...           --  AGC 125075        --      --      --           --\n",
      "         46080 application/fits https://cdsarc.cds.unistra.fr/saadavizier/download?oid=1153204908023899875 2018ApJ...861...49H          -1         spectrum ...           --  AGC 334513        --      --      --           --\n"
     ]
    }
   ],
   "source": [
    "# look for the Obscore TAP service of VizieR\n",
    "obstap_service = registry.search(\"ObsTAP VizieR\", registry.Servicetype(\"tap\"))\n",
    "\n",
    "# execute the query\n",
    "fits_list = obstap_service[0].get_service(\"tap\").run_sync(f\"SELECT TOP 10 * FROM obscore WHERE obs_collection='{CATALOGUE}'\")\n",
    "print(fits_list)"
   ]
  },
  {
   "cell_type": "code",
   "execution_count": null,
   "id": "72803ca9-f795-4eca-9b4e-145628e99079",
   "metadata": {},
   "outputs": [],
   "source": []
  }
 ],
 "metadata": {
  "kernelspec": {
   "display_name": "Python 3 (ipykernel)",
   "language": "python",
   "name": "python3"
  },
  "language_info": {
   "codemirror_mode": {
    "name": "ipython",
    "version": 3
   },
   "file_extension": ".py",
   "mimetype": "text/x-python",
   "name": "python",
   "nbconvert_exporter": "python",
   "pygments_lexer": "ipython3",
   "version": "3.10.12"
  },
  "widgets": {
   "application/vnd.jupyter.widget-state+json": {
    "state": {
     "614c056f9da546e99e13516067d84b51": {
      "model_module": "ipyaladin",
      "model_module_version": "^0.2.5",
      "model_name": "AladinModel",
      "state": {
       "_model_module_version": "^0.2.5",
       "_view_module_version": "^0.2.5",
       "allow_full_zoomout": false,
       "color_map_flag": true,
       "color_map_name": "",
       "coo_frame": "J2000",
       "fov": 0.40402,
       "full_screen": false,
       "height": 400,
       "layout": "IPY_MODEL_b614942c85f143f29cb69fd61d31fc08",
       "listener_flag": true,
       "listener_type": "",
       "log": true,
       "moc_URL": "https://cdsarc.cds.unistra.fr/viz-bin/moc/J/AJ/157/229",
       "moc_dict": {},
       "moc_from_URL_flag": false,
       "moc_from_dict_flag": true,
       "moc_options": {
        "color": "pink",
        "opacity": 0.5
       },
       "options": [
        "allow_full_zoomout",
        "coo_frame",
        "fov",
        "full_screen",
        "log",
        "overlay_survey",
        "overlay_survey_opacity",
        "reticle_color",
        "reticle_size",
        "show_catalog",
        "show_context_menu",
        "show_coo_grid",
        "show_frame",
        "show_fullscreen_control",
        "show_goto_control",
        "show_layers_control",
        "show_reticle",
        "show_share_control",
        "show_simbad_pointer_control",
        "show_zoom_control",
        "survey",
        "target"
       ],
       "overlay_from_stcs_flag": true,
       "overlay_options": {},
       "overlay_survey": "",
       "overlay_survey_opacity": 0,
       "rectangular_selection_flag": true,
       "reticle_color": "rgb(178, 50, 178)",
       "reticle_size": 22,
       "show_catalog": true,
       "show_context_menu": true,
       "show_coo_grid": false,
       "show_frame": true,
       "show_fullscreen_control": false,
       "show_goto_control": true,
       "show_layers_control": true,
       "show_reticle": true,
       "show_share_control": false,
       "show_simbad_pointer_control": true,
       "show_zoom_control": true,
       "stc_string": "",
       "survey": "P/DSS2/color",
       "table_columns": [
        [
         1,
         "1757132",
         7608,
         42.48899841308594,
         3.298799967454795e-14,
         7.765999871681779e-16,
         3.2987999886306186e-16,
         8,
         211.1,
         1
        ],
        [
         2,
         "1757132",
         7624,
         55.70100021362305,
         3.3175000832379176e-14,
         6.217699877066171e-16,
         3.3175000938258294e-16,
         8,
         211.1,
         1
        ],
        [
         3,
         "1757132",
         7640,
         67.34300231933594,
         3.196099933105642e-14,
         5.155499914781189e-16,
         3.196099890753995e-16,
         8,
         211.1,
         1
        ],
        [
         4,
         "1757132",
         7656,
         83.2770004272461,
         3.1485000696017396e-14,
         4.2738000265781385e-16,
         3.1485000801896514e-16,
         8,
         211.1,
         1
        ],
        [
         5,
         "1757132",
         7672,
         108.45999908447266,
         3.169599999131023e-14,
         3.4893998718173733e-16,
         3.169599935603552e-16,
         8,
         211.1,
         1
        ],
        [
         6,
         "1757132",
         7688,
         142.10000610351562,
         3.182499972104527e-14,
         2.856200127399625e-16,
         3.182499982692439e-16,
         8,
         211.1,
         1
        ],
        [
         7,
         "1757132",
         7704,
         183.4600067138672,
         3.21299993446926e-14,
         2.3906999363462235e-16,
         3.2130000509362903e-16,
         8,
         211.1,
         1
        ],
        [
         8,
         "1757132",
         7720,
         222.55999755859375,
         3.195000145526927e-14,
         2.072299986775536e-16,
         3.1950000714115444e-16,
         8,
         211.1,
         1
        ],
        [
         9,
         "1757132",
         7736,
         253.0500030517578,
         3.1498000957691855e-14,
         1.8742999473055349e-16,
         3.1498000110658907e-16,
         8,
         211.1,
         1
        ],
        [
         10,
         "1757132",
         7752,
         275.17999267578125,
         3.10060001762133e-14,
         1.745300005812257e-16,
         3.1006001023246247e-16,
         8,
         211.1,
         1
        ]
       ],
       "table_flag": false,
       "table_keys": [
        "recno",
        "ID",
        "Wave",
        "Net",
        "Flux",
        "Stat-err",
        "Sys-err",
        "Nobs",
        "Exp",
        "Qual"
       ],
       "target": "76.446253 52.849186",
       "thumbnail_flag": true,
       "votable_URL": "",
       "votable_from_URL_flag": true,
       "votable_options": {}
      }
     },
     "b614942c85f143f29cb69fd61d31fc08": {
      "model_module": "@jupyter-widgets/base",
      "model_module_version": "2.0.0",
      "model_name": "LayoutModel",
      "state": {}
     }
    },
    "version_major": 2,
    "version_minor": 0
   }
  }
 },
 "nbformat": 4,
 "nbformat_minor": 5
}
