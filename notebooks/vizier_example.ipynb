{
 "cells": [
  {
   "cell_type": "markdown",
   "id": "7ad7861f",
   "metadata": {},
   "source": [
    "# Welcome to VizieR\n",
    "\n",
    "It is a generic notebook, proposed by <a href='http://cds.unistra.fr'>CDS</a><img src='https://cds.unistra.fr//img/cds.png' alt='CDS logo'/>\n",
    "\n",
    "--------------------------------------------------------\n",
    "\n",
    "Modify the VizieR catalogue name (variable CATALOGUE)"
   ]
  },
  {
   "cell_type": "code",
   "execution_count": null,
   "id": "95888801",
   "metadata": {},
   "outputs": [],
   "source": [
    "CATALOGUE = \"J/AJ/157/229\""
   ]
  },
  {
   "cell_type": "markdown",
   "id": "26ad3c69",
   "metadata": {},
   "source": [
    "usefull function to access data"
   ]
  },
  {
   "cell_type": "code",
   "execution_count": null,
   "id": "799a4af8",
   "metadata": {},
   "outputs": [],
   "source": [
    "from pyvo import registry\n",
    "import matplotlib.pyplot as plt\n",
    "\n",
    "from astropy import log\n",
    "log.setLevel('ERROR')\n",
    "\n",
    "def vizier_ivoid(source: str) ->str:\n",
    "    return f\"ivo://CDS.VizieR/{CATALOGUE}\"\n",
    "\n",
    "def print_basic_info(voresource)-> dict:\n",
    "    tabinfo = voresource.to_table()\n",
    "    if len(tabinfo) == 0:\n",
    "        raise Exception(\"nothing found\")\n",
    "    info = tabinfo[0]\n",
    "    print(f\"{info['short_name']} {info['res_title']}\")\n",
    "    print(f\"Description:\\n{info['res_description']}\")\n",
    "    print(f\"Bibcode: {info['source_value']}\")\n",
    "    \n",
    "def get_vizier_table_from_resource(voresource) -> list:\n",
    "    return list(voresources[0].get_tables().keys())\n"
   ]
  },
  {
   "cell_type": "markdown",
   "id": "5a457510",
   "metadata": {},
   "source": [
    "## Get metadata from the VO registry\n",
    "the flowing code uses <a href='https://pyvo.readthedocs.io/en/latest/'>pyvo</a>"
   ]
  },
  {
   "cell_type": "code",
   "execution_count": null,
   "id": "92ebe10f",
   "metadata": {},
   "outputs": [],
   "source": [
    "# get catalogue information using pyvo\n",
    "voresources = registry.search(ivoid=vizier_ivoid(CATALOGUE))\n",
    "print_basic_info(voresources)"
   ]
  },
  {
   "cell_type": "markdown",
   "id": "a688c5c2",
   "metadata": {},
   "source": [
    "Display resource in the browser (open a new target)"
   ]
  },
  {
   "cell_type": "code",
   "execution_count": null,
   "id": "4694e631",
   "metadata": {},
   "outputs": [],
   "source": [
    "voresources.to_table().show_in_browser()"
   ]
  },
  {
   "cell_type": "markdown",
   "id": "087bb928",
   "metadata": {},
   "source": [
    "Print tables available inb the catalogue"
   ]
  },
  {
   "cell_type": "code",
   "execution_count": null,
   "id": "d6484254",
   "metadata": {},
   "outputs": [],
   "source": [
    "tables = get_vizier_table_from_resource(voresources)\n",
    "for table in tables:\n",
    "    print(f\"table {table}\")"
   ]
  },
  {
   "cell_type": "markdown",
   "id": "20661a78",
   "metadata": {},
   "source": [
    "## Execute a simple cone search query \n",
    "We use the Simple Cone Search (<a href='https://www.ivoa.net/documents/latest/ConeSearch.html'>SCS</a>) of the virtual observatory \n",
    "(only available for table having position)"
   ]
  },
  {
   "cell_type": "code",
   "execution_count": null,
   "id": "9c678dd4",
   "metadata": {},
   "outputs": [],
   "source": [
    "DEFAULT_SCS_RADIUS = 1/60.\n",
    "DEFAULT_SCS_POS = (0, 0)"
   ]
  },
  {
   "cell_type": "code",
   "execution_count": null,
   "id": "8f34d3fd",
   "metadata": {},
   "outputs": [],
   "source": [
    "# make a conesearch\n",
    "print(f\"conesearch\\n\")\n",
    "records = voresources[CATALOGUE].get_service(\"conesearch\").search(pos=DEFAULT_SCS_POS, sr=DEFAULT_SCS_RADIUS)\n",
    "print(records)"
   ]
  },
  {
   "cell_type": "markdown",
   "id": "abee6ce7",
   "metadata": {},
   "source": [
    "## Execute a SQL/ADQL query\n",
    "On the first table of the catalogue, we execute a simple <a href='https://www.ivoa.net/documents/latest/ADQL.html'>ADQL</a> query "
   ]
  },
  {
   "cell_type": "code",
   "execution_count": null,
   "id": "3a8b8d60",
   "metadata": {},
   "outputs": [],
   "source": [
    "# get the first table of the catalogue\n",
    "table = list(voresources[0].get_tables().keys())[0]\n",
    "\n",
    "# execute a synchronous ADQL query\n",
    "tap_service = voresources[CATALOGUE].get_service(\"tap\")\n",
    "records = voresources[CATALOGUE].get_service(\"tap\").run_sync(f'select TOP 10 * from \"{table}\"')\n",
    "print(records)"
   ]
  },
  {
   "cell_type": "markdown",
   "id": "d1df2200",
   "metadata": {},
   "source": [
    "## Get the catalogue coverage\n",
    "We use Multiple Order Coverage <a href='https://ivoa.net/documents/MOC/'>MOC</a> to display the catalogue coverage"
   ]
  },
  {
   "cell_type": "code",
   "execution_count": null,
   "id": "b532da7e",
   "metadata": {},
   "outputs": [],
   "source": [
    "# get moc and print\n",
    "from mocpy import MOC\n",
    "\n",
    "def get_moc_url(name: str) -> str:\n",
    "    return f\"https://cdsarc.cds.unistra.fr/viz-bin/moc/{name}\"\n",
    "\n",
    "moc = MOC.from_fits(get_moc_url(CATALOGUE))"
   ]
  },
  {
   "cell_type": "markdown",
   "id": "a8273b53",
   "metadata": {},
   "source": [
    "plot the result using matplotlib"
   ]
  },
  {
   "cell_type": "code",
   "execution_count": null,
   "id": "f47e09e2",
   "metadata": {},
   "outputs": [],
   "source": [
    "fig = plt.figure(figsize=(5, 5))\n",
    "wcs = moc.wcs(fig)\n",
    "ax = fig.add_subplot(projection=wcs)\n",
    "moc.fill(ax=ax, wcs=wcs, alpha=0.5, color=\"blue\")"
   ]
  },
  {
   "cell_type": "markdown",
   "id": "065588dd",
   "metadata": {},
   "source": [
    "Print the intersection of the catalogue coverage with <a href='https://cdsarc.cds.unistra.fr/viz-bin/cat/II/335'>Galex</a>"
   ]
  },
  {
   "cell_type": "code",
   "execution_count": null,
   "id": "414b6d40",
   "metadata": {},
   "outputs": [],
   "source": [
    "# get Galex coverage\n",
    "moc_galex = MOC.from_fits(get_moc_url(\"II/335\"))\n",
    "\n",
    "# compute intersection\n",
    "moc_intersect = moc_galex.intersection(moc)"
   ]
  },
  {
   "cell_type": "code",
   "execution_count": null,
   "id": "063232e8",
   "metadata": {},
   "outputs": [],
   "source": [
    "# display result in matplotlib\n",
    "\n",
    "fig = plt.figure(figsize=(5, 5))\n",
    "\n",
    "wcs_galex = moc_galex.wcs(fig)\n",
    "ax = fig.add_subplot(projection=wcs_galex)\n",
    "moc_galex.fill(ax=ax, wcs=wcs_galex, alpha=0.5, color=\"blue\")\n",
    "\n",
    "wcs_intersect = moc_intersect.wcs(fig)\n",
    "ax_intersect = fig.add_subplot(projection=wcs_intersect)\n",
    "moc_intersect.fill(ax=ax_intersect, wcs=wcs_intersect, alpha=0.5, color=\"red\")"
   ]
  },
  {
   "cell_type": "code",
   "execution_count": null,
   "id": "46edd5ba",
   "metadata": {},
   "outputs": [],
   "source": []
  }
 ],
 "metadata": {
  "kernelspec": {
   "display_name": "Python 3 (ipykernel)",
   "language": "python",
   "name": "python3"
  },
  "language_info": {
   "codemirror_mode": {
    "name": "ipython",
    "version": 3
   },
   "file_extension": ".py",
   "mimetype": "text/x-python",
   "name": "python",
   "nbconvert_exporter": "python",
   "pygments_lexer": "ipython3",
   "version": "3.10.12"
  }
 },
 "nbformat": 4,
 "nbformat_minor": 5
}
