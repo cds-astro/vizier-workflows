{
 "cells": [
  {
   "cell_type": "code",
   "execution_count": 1,
   "id": "a6eaeebf",
   "metadata": {},
   "outputs": [],
   "source": [
    "# Access astronomical databases\n",
    "from pyvo import registry\n",
    "\n",
    "# Moc and HEALPix tools\n",
    "from mocpy import MOC\n",
    "\n",
    "# Sky visualization\n",
    "from ipyaladin import Aladin\n",
    "\n",
    "# For plots\n",
    "import matplotlib.pyplot as plt"
   ]
  },
  {
   "cell_type": "markdown",
   "id": "7ad7861f",
   "metadata": {},
   "source": [
    "# Welcome to VizieR example workflow\n",
    "\n",
    "[![Vizier](https://custom-icon-badges.demolab.com/badge/Vizier-gray.svg?logo=vizier&logoColor=orange&logoWidth=20)](https://vizier.cds.unistra.fr/viz-bin/VizieR \"https://vizier.cds.unistra.fr/viz-bin/VizieR\")\n",
    "\n",
    "It is a generic notebook, highlighting what can be done once you chose a catalog. This workflow is suggested by [CDS](https://cdsweb.unistra.fr/) (Strasbourg Astronomical Data Center, house of [VizieR](https://vizier.cds.unistra.fr/viz-bin/VizieR)).\n",
    "\n",
    "--------------------------------------------------------\n",
    "\n",
    "Modify the VizieR catalogue name (variable CATALOGUE) and anything else you might feel like exploring!\n",
    "\n",
    "## 1. Setup\n",
    "\n",
    "This example notebook has the following dependencies: \n",
    "\n",
    "**Required**\n",
    "- pyvo : this library facilitates the access to the Virtual Observatory (VO) resources. VizieR is part of the VO.\n",
    "\n",
    "**Optional, for visualization**\n",
    "- ipyaladin : this is the Aladin-lite sky viewer, bundled as a jupyter widget. It allows to plot catalogs and multi-order coverages (MOC)\n",
    "- matplotlib : an other option to see catalog points and MOCs\n",
    "\n",
    "## 2. Metadata exploration with the Virtual Observatory registry\n",
    "\n",
    "This part uses [pyvo](https://pyvo.readthedocs.io/en) to connect to the VO registry."
   ]
  },
  {
   "cell_type": "code",
   "execution_count": 2,
   "id": "95888801",
   "metadata": {},
   "outputs": [],
   "source": [
    "# the catalogue name in VizieR\n",
    "CATALOGUE = \"J/AJ/157/229\""
   ]
  },
  {
   "cell_type": "markdown",
   "id": "26ad3c69",
   "metadata": {},
   "source": [
    "We first retrieve catalogue information."
   ]
  },
  {
   "cell_type": "code",
   "execution_count": 3,
   "id": "6db57e6b",
   "metadata": {},
   "outputs": [],
   "source": [
    "# each resource in the VO has an identifier, called ivoid. For vizier catalogs,\n",
    "# the VO ids can be constructed like this:\n",
    "catalogue_ivoid = f\"ivo://CDS.VizieR/{CATALOGUE}\"\n",
    "# the actual query to the registry\n",
    "voresource = registry.search(ivoid=catalogue_ivoid)[0]"
   ]
  },
  {
   "cell_type": "code",
   "execution_count": 4,
   "id": "f3e975e3",
   "metadata": {},
   "outputs": [
    {
     "name": "stdout",
     "output_type": "stream",
     "text": [
      "CALSPEC: WFC3 infrared grism spectrophotometry\n",
      "Short Name: J/AJ/157/229\n",
      "IVOA Identifier: ivo://cds.vizier/j/aj/157/229\n",
      "Access modes: conesearch, tap#aux, web\n",
      "Multi-capabilty service -- use get_service()\n",
      "\n",
      "The collections of spectral energy distributions (SEDs) in the Hubble Space\n",
      "Telescope (HST) CALSPEC database are augmented by 19 infrared (IR) SEDs from\n",
      "Wide Field Camera 3 (WFC3) IR grism spectra. Together, the two IR grisms, G102\n",
      "and G141, cover the 0.8-1.7 {mu}m range with resolutions of R=200 and 150,\n",
      "respectively. These new WFC3 SEDs overlap existing CALSPEC Space Telescope\n",
      "Imaging Spectrograph (STIS) standard star flux distributions at 0.8-1 {mu}m\n",
      "with agreement to ~<1%. Some CALSPEC standards already have near-IR camera and\n",
      "multi-object spectrogragh (NICMOS) SEDs; but in their overlap region at\n",
      "0.8-1.7 {mu}m, the WFC3 data have better wavelength accuracy, better spectral\n",
      "resolution, better repeatability, and, consequently, better flux distributions\n",
      "of ~1% accuracy in our CALSPEC absolute flux SEDs versus ~2% for NICMOS. With\n",
      "the improved SEDs in the WFC3 range, the modeled extrapolations to 32 {mu}m\n",
      "for the James Webb Space Telescope flux standards begin to lose precision\n",
      "longward of the 1.7 {mu}m WFC3 limit, instead of at the 1.0-{mu}m-long\n",
      "wavelength limit for STIS. For example, the extrapolated IR flux longward of\n",
      "1.7 {mu}m for 1808347 increases by ~1% for the model fit to the data with\n",
      "WFC3, instead of just to the STIS SED alone.\n",
      "\n",
      "Subjects: J/AJ/157/229\n",
      "Waveband Coverage: infrared\n",
      "More info: https://cdsarc.cds.unistra.fr/viz-bin/cat/J/AJ/157/229\n"
     ]
    }
   ],
   "source": [
    "# We can print metadata information about the catalogue\n",
    "voresource.describe(verbose=True)"
   ]
  },
  {
   "cell_type": "markdown",
   "id": "bd2a7ae3",
   "metadata": {},
   "source": [
    "We can also inspect in details the `resource` object and access the attributes not provided by the describe method. See for example, the first author of a resource: "
   ]
  },
  {
   "cell_type": "code",
   "execution_count": 5,
   "id": "f5a53605",
   "metadata": {},
   "outputs": [
    {
     "data": {
      "text/plain": [
       "'Bohlin R.C.'"
      ]
     },
     "execution_count": 5,
     "metadata": {},
     "output_type": "execute_result"
    }
   ],
   "source": [
    "voresource.creators[0]"
   ]
  },
  {
   "cell_type": "markdown",
   "id": "5a457510",
   "metadata": {},
   "source": [
    "## 3. Access the tabular data of this catalog\n",
    "\n",
    "We can have a look at the tables available in the catalogue."
   ]
  },
  {
   "cell_type": "code",
   "execution_count": 6,
   "id": "92ebe10f",
   "metadata": {},
   "outputs": [
    {
     "name": "stderr",
     "output_type": "stream",
     "text": [
      "WARNING: W02: ?:?:?: W02: '' is not a valid datatype according to the VOSI spec [pyvo.io.vosi.vodataservice]\n"
     ]
    },
    {
     "data": {
      "text/plain": [
       "{'J/AJ/157/229/table3': <Table name=\"J/AJ/157/229/table3\">... 10 columns ...</Table>,\n",
       " 'J/AJ/157/229/table2': <Table name=\"J/AJ/157/229/table2\">... 5 columns ...</Table>,\n",
       " 'J/AJ/157/229/table1': <Table name=\"J/AJ/157/229/table1\">... 12 columns ...</Table>}"
      ]
     },
     "execution_count": 6,
     "metadata": {},
     "output_type": "execute_result"
    }
   ],
   "source": [
    "tables = voresource.get_tables()\n",
    "tables"
   ]
  },
  {
   "cell_type": "code",
   "execution_count": 7,
   "id": "81514878",
   "metadata": {},
   "outputs": [
    {
     "data": {
      "text/plain": [
       "['J/AJ/157/229/table3', 'J/AJ/157/229/table2', 'J/AJ/157/229/table1']"
      ]
     },
     "execution_count": 7,
     "metadata": {},
     "output_type": "execute_result"
    }
   ],
   "source": [
    "# We can also extract the tables names for later use\n",
    "tables_names = list(tables.keys())\n",
    "tables_names"
   ]
  },
  {
   "cell_type": "markdown",
   "id": "eedac527",
   "metadata": {},
   "source": [
    "The actual data can then be access using any of the ``access_modes`` of the voresource."
   ]
  },
  {
   "cell_type": "code",
   "execution_count": 8,
   "id": "32db444e",
   "metadata": {},
   "outputs": [
    {
     "data": {
      "text/plain": [
       "{'conesearch', 'tap#aux', 'web'}"
      ]
     },
     "execution_count": 8,
     "metadata": {},
     "output_type": "execute_result"
    }
   ],
   "source": [
    "voresource.access_modes()"
   ]
  },
  {
   "cell_type": "markdown",
   "id": "4a7dd42f",
   "metadata": {},
   "source": [
    "The web access is found by following the ``reference_url``"
   ]
  },
  {
   "cell_type": "code",
   "execution_count": 9,
   "id": "545f9bf8",
   "metadata": {},
   "outputs": [
    {
     "data": {
      "text/plain": [
       "'https://cdsarc.cds.unistra.fr/viz-bin/cat/J/AJ/157/229'"
      ]
     },
     "execution_count": 9,
     "metadata": {},
     "output_type": "execute_result"
    }
   ],
   "source": [
    "voresource.reference_url"
   ]
  },
  {
   "cell_type": "markdown",
   "id": "80157f1b",
   "metadata": {},
   "source": [
    "We will explore the other access modes here.\n",
    "\n",
    "### 3.1. Execute a cone search query\n",
    "\n",
    "We use the Simple Cone Search (<a href='https://www.ivoa.net/documents/latest/ConeSearch.html'>SCS</a>) protocol of the virtual observatory (only available for tables with positions).\n",
    "\n",
    "Adapt the radius and position of the center to your needs."
   ]
  },
  {
   "cell_type": "code",
   "execution_count": 10,
   "id": "9c678dd4",
   "metadata": {},
   "outputs": [],
   "source": [
    "conesearch_radius = 1 / 60.0  # in degrees\n",
    "conesearch_center = (0, 0)"
   ]
  },
  {
   "cell_type": "code",
   "execution_count": 11,
   "id": "8f34d3fd",
   "metadata": {},
   "outputs": [
    {
     "data": {
      "text/plain": [
       "<Table length=0>\n",
       "   _r   recno  Star   ID    Jmag  ... NICMOS  sp  SimbadName   _RA     _DE  \n",
       "                            mag   ...                          deg     deg  \n",
       "float64 int32 str23 str11 float32 ...  str3  str2   str23    float64 float64\n",
       "------- ----- ----- ----- ------- ... ------ ---- ---------- ------- -------"
      ]
     },
     "execution_count": 11,
     "metadata": {},
     "output_type": "execute_result"
    }
   ],
   "source": [
    "conesearch_records = voresource.get_service(\"conesearch\").search(\n",
    "    pos=conesearch_center,\n",
    "    sr=conesearch_radius,\n",
    ")\n",
    "conesearch_records"
   ]
  },
  {
   "cell_type": "markdown",
   "id": "abee6ce7",
   "metadata": {},
   "source": [
    "### 3.2 Execute a SQL/ADQL query\n",
    "\n",
    "The ``tap#aux`` in the ``access_mode`` response indicates that we can also do a SQL/ADQL query for these VizieR tables.\n",
    "\n",
    "On the first table of the catalogue, we execute an <a href='https://www.ivoa.net/documents/latest/ADQL.html'>ADQL</a> query."
   ]
  },
  {
   "cell_type": "code",
   "execution_count": 12,
   "id": "3a8b8d60",
   "metadata": {},
   "outputs": [
    {
     "data": {
      "text/plain": [
       "<Table length=10>\n",
       "recno    ID     Wave    Net   ...     Sys-err      Nobs   Exp    Qual\n",
       "               0.1 nm  ct / s ... cW.m**-2.nm**-1          s         \n",
       "int32  object float64 float32 ...     float32     int16 float64 int16\n",
       "----- ------- ------- ------- ... --------------- ----- ------- -----\n",
       "    1 1757132  7608.0  42.489 ...      3.2988e-16     8   211.1     1\n",
       "    2 1757132  7624.0  55.701 ...      3.3175e-16     8   211.1     1\n",
       "    3 1757132  7640.0  67.343 ...      3.1961e-16     8   211.1     1\n",
       "    4 1757132  7656.0  83.277 ...      3.1485e-16     8   211.1     1\n",
       "    5 1757132  7672.0  108.46 ...      3.1696e-16     8   211.1     1\n",
       "    6 1757132  7688.0   142.1 ...      3.1825e-16     8   211.1     1\n",
       "    7 1757132  7704.0  183.46 ...       3.213e-16     8   211.1     1\n",
       "    8 1757132  7720.0  222.56 ...       3.195e-16     8   211.1     1\n",
       "    9 1757132  7736.0  253.05 ...      3.1498e-16     8   211.1     1\n",
       "   10 1757132  7752.0  275.18 ...      3.1006e-16     8   211.1     1"
      ]
     },
     "execution_count": 12,
     "metadata": {},
     "output_type": "execute_result"
    }
   ],
   "source": [
    "# get the first table of the catalogue\n",
    "first_table_name = tables_names[0]\n",
    "\n",
    "# execute a synchronous ADQL query\n",
    "tap_service = voresource.get_service(\"tap\")\n",
    "tap_records = voresource.get_service(\"tap\").run_sync(\n",
    "    f'select TOP 10 * from \"{first_table_name}\"',\n",
    ")\n",
    "tap_records"
   ]
  },
  {
   "cell_type": "markdown",
   "id": "d1df2200",
   "metadata": {},
   "source": [
    "## 4. Get the catalogue coverage\n",
    "\n",
    "VizieR also provides the coverage of each catalogue with Multiple Order Coverage (<a href='https://ivoa.net/documents/MOC/'>MOC</a>) at order 10 -- meaning with a 0.001 rad spacial resolution."
   ]
  },
  {
   "cell_type": "code",
   "execution_count": 13,
   "id": "b532da7e",
   "metadata": {},
   "outputs": [
    {
     "data": {
      "text/plain": [
       "10/483991 2386614 2433709 2600321 2611881 2971094 2971474 3068104 3926734 \n",
       " 4110951 5083592 5223647 5451823 6090106 6264986 6602996 7174822 7893354 \n",
       " 9199537 "
      ]
     },
     "execution_count": 13,
     "metadata": {},
     "output_type": "execute_result"
    }
   ],
   "source": [
    "# retrieve the MOC\n",
    "catalogue_coverage = MOC.from_fits(\n",
    "    f\"https://cdsarc.cds.unistra.fr/viz-bin/moc/{CATALOGUE}\",\n",
    ")\n",
    "catalogue_coverage"
   ]
  },
  {
   "cell_type": "markdown",
   "id": "a8273b53",
   "metadata": {},
   "source": [
    "We can plot the coverage with ``matplotlib``."
   ]
  },
  {
   "cell_type": "code",
   "execution_count": 14,
   "id": "f47e09e2",
   "metadata": {},
   "outputs": [
    {
     "data": {
      "image/png": "[encoded data removed]",
      "text/plain": [
       "<Figure size 500x500 with 1 Axes>"
      ]
     },
     "metadata": {},
     "output_type": "display_data"
    }
   ],
   "source": [
    "fig = plt.figure(figsize=(5, 5))\n",
    "wcs = catalogue_coverage.wcs(fig)\n",
    "ax = fig.add_subplot(projection=wcs)\n",
    "catalogue_coverage.fill(ax=ax, wcs=wcs, alpha=0.5, color=\"blue\")"
   ]
  },
  {
   "cell_type": "markdown",
   "id": "adad9fc7",
   "metadata": {},
   "source": [
    "or with ipyaladin"
   ]
  },
  {
   "cell_type": "code",
   "execution_count": 15,
   "id": "53840a2b",
   "metadata": {},
   "outputs": [
    {
     "data": {
      "application/vnd.jupyter.widget-view+json": {
       "model_id": "f4f20a05d090459cad314e7fa33dac41",
       "version_major": 2,
       "version_minor": 0
      },
      "text/plain": [
       "Aladin(options=['allow_full_zoomout', 'coo_frame', 'fov', 'full_screen', 'log', 'overlay_survey', 'overlay_sur…"
      ]
     },
     "execution_count": 15,
     "metadata": {},
     "output_type": "execute_result"
    }
   ],
   "source": [
    "aladin = Aladin()\n",
    "aladin"
   ]
  },
  {
   "cell_type": "markdown",
   "id": "de738e90-b34b-4818-a6e6-2d07c9b4c2c2",
   "metadata": {},
   "source": [
    "We can add the tables and coverage in this ipyaladin window."
   ]
  },
  {
   "cell_type": "code",
   "execution_count": 16,
   "id": "52e6635c-2500-4c49-930b-35a08b36caa0",
   "metadata": {},
   "outputs": [],
   "source": [
    "aladin.add_table(conesearch_records.to_table())"
   ]
  },
  {
   "cell_type": "code",
   "execution_count": 17,
   "id": "3f55e7d1-bf38-4b7d-a73b-567f9b256f85",
   "metadata": {},
   "outputs": [],
   "source": [
    "aladin.add_table(tap_records.to_table())"
   ]
  },
  {
   "cell_type": "code",
   "execution_count": 18,
   "id": "097a4505-5417-4dd3-9032-d75a76fa7c5c",
   "metadata": {},
   "outputs": [],
   "source": [
    "aladin.add_moc_from_URL(\n",
    "    f\"https://cdsarc.cds.unistra.fr/viz-bin/moc/{CATALOGUE}\",\n",
    "    moc_options={\"opacity\": 0.5, \"color\": \"pink\"},\n",
    ")"
   ]
  },
  {
   "cell_type": "markdown",
   "id": "065588dd",
   "metadata": {},
   "source": [
    "For more information about manipulating coverages, see [MOCpy documentation](https://cds-astro.github.io/mocpy/)."
   ]
  }
 ],
 "metadata": {
  "kernelspec": {
   "display_name": "Python 3 (ipykernel)",
   "language": "python",
   "name": "python3"
  },
  "language_info": {
   "codemirror_mode": {
    "name": "ipython",
    "version": 3
   },
   "file_extension": ".py",
   "mimetype": "text/x-python",
   "name": "python",
   "nbconvert_exporter": "python",
   "pygments_lexer": "ipython3",
   "version": "3.10.11"
  },
  "widgets": {
   "application/vnd.jupyter.widget-state+json": {
    "state": {
     "614c056f9da546e99e13516067d84b51": {
      "model_module": "ipyaladin",
      "model_module_version": "^0.2.5",
      "model_name": "AladinModel",
      "state": {
       "_model_module_version": "^0.2.5",
       "_view_module_version": "^0.2.5",
       "allow_full_zoomout": false,
       "color_map_flag": true,
       "color_map_name": "",
       "coo_frame": "J2000",
       "fov": 0.40402,
       "full_screen": false,
       "height": 400,
       "layout": "IPY_MODEL_b614942c85f143f29cb69fd61d31fc08",
       "listener_flag": true,
       "listener_type": "",
       "log": true,
       "moc_URL": "https://cdsarc.cds.unistra.fr/viz-bin/moc/J/AJ/157/229",
       "moc_dict": {},
       "moc_from_URL_flag": false,
       "moc_from_dict_flag": true,
       "moc_options": {
        "color": "pink",
        "opacity": 0.5
       },
       "options": [
        "allow_full_zoomout",
        "coo_frame",
        "fov",
        "full_screen",
        "log",
        "overlay_survey",
        "overlay_survey_opacity",
        "reticle_color",
        "reticle_size",
        "show_catalog",
        "show_context_menu",
        "show_coo_grid",
        "show_frame",
        "show_fullscreen_control",
        "show_goto_control",
        "show_layers_control",
        "show_reticle",
        "show_share_control",
        "show_simbad_pointer_control",
        "show_zoom_control",
        "survey",
        "target"
       ],
       "overlay_from_stcs_flag": true,
       "overlay_options": {},
       "overlay_survey": "",
       "overlay_survey_opacity": 0,
       "rectangular_selection_flag": true,
       "reticle_color": "rgb(178, 50, 178)",
       "reticle_size": 22,
       "show_catalog": true,
       "show_context_menu": true,
       "show_coo_grid": false,
       "show_frame": true,
       "show_fullscreen_control": false,
       "show_goto_control": true,
       "show_layers_control": true,
       "show_reticle": true,
       "show_share_control": false,
       "show_simbad_pointer_control": true,
       "show_zoom_control": true,
       "stc_string": "",
       "survey": "P/DSS2/color",
       "table_columns": [
        [
         1,
         "1757132",
         7608,
         42.48899841308594,
         3.298799967454795e-14,
         7.765999871681779e-16,
         3.2987999886306186e-16,
         8,
         211.1,
         1
        ],
        [
         2,
         "1757132",
         7624,
         55.70100021362305,
         3.3175000832379176e-14,
         6.217699877066171e-16,
         3.3175000938258294e-16,
         8,
         211.1,
         1
        ],
        [
         3,
         "1757132",
         7640,
         67.34300231933594,
         3.196099933105642e-14,
         5.155499914781189e-16,
         3.196099890753995e-16,
         8,
         211.1,
         1
        ],
        [
         4,
         "1757132",
         7656,
         83.2770004272461,
         3.1485000696017396e-14,
         4.2738000265781385e-16,
         3.1485000801896514e-16,
         8,
         211.1,
         1
        ],
        [
         5,
         "1757132",
         7672,
         108.45999908447266,
         3.169599999131023e-14,
         3.4893998718173733e-16,
         3.169599935603552e-16,
         8,
         211.1,
         1
        ],
        [
         6,
         "1757132",
         7688,
         142.10000610351562,
         3.182499972104527e-14,
         2.856200127399625e-16,
         3.182499982692439e-16,
         8,
         211.1,
         1
        ],
        [
         7,
         "1757132",
         7704,
         183.4600067138672,
         3.21299993446926e-14,
         2.3906999363462235e-16,
         3.2130000509362903e-16,
         8,
         211.1,
         1
        ],
        [
         8,
         "1757132",
         7720,
         222.55999755859375,
         3.195000145526927e-14,
         2.072299986775536e-16,
         3.1950000714115444e-16,
         8,
         211.1,
         1
        ],
        [
         9,
         "1757132",
         7736,
         253.0500030517578,
         3.1498000957691855e-14,
         1.8742999473055349e-16,
         3.1498000110658907e-16,
         8,
         211.1,
         1
        ],
        [
         10,
         "1757132",
         7752,
         275.17999267578125,
         3.10060001762133e-14,
         1.745300005812257e-16,
         3.1006001023246247e-16,
         8,
         211.1,
         1
        ]
       ],
       "table_flag": false,
       "table_keys": [
        "recno",
        "ID",
        "Wave",
        "Net",
        "Flux",
        "Stat-err",
        "Sys-err",
        "Nobs",
        "Exp",
        "Qual"
       ],
       "target": "76.446253 52.849186",
       "thumbnail_flag": true,
       "votable_URL": "",
       "votable_from_URL_flag": true,
       "votable_options": {}
      }
     },
     "b614942c85f143f29cb69fd61d31fc08": {
      "model_module": "@jupyter-widgets/base",
      "model_module_version": "2.0.0",
      "model_name": "LayoutModel",
      "state": {}
     }
    },
    "version_major": 2,
    "version_minor": 0
   }
  }
 },
 "nbformat": 4,
 "nbformat_minor": 5
}
